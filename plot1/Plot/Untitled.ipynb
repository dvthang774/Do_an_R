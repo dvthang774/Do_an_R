{
 "cells": [
  {
   "cell_type": "code",
   "execution_count": 2,
   "metadata": {},
   "outputs": [
    {
     "name": "stdout",
     "output_type": "stream",
     "text": [
      "'data.frame':\t3987 obs. of  14 variables:\n",
      " $ FIPS               : int  NA NA NA NA NA NA NA NA NA NA ...\n",
      " $ Admin2             : Factor w/ 1927 levels \"\",\"Abbeville\",..: 1 1 1 1 1 1 1 1 1 1 ...\n",
      " $ Province_State     : Factor w/ 578 levels \"\",\"Abruzzo\",\"Acre\",..: 1 1 1 1 1 1 1 1 43 346 ...\n",
      " $ Country_Region     : Factor w/ 195 levels \"Afghanistan\",..: 1 2 3 4 5 6 7 8 9 9 ...\n",
      " $ Last_Update        : Factor w/ 7 levels \"2020-08-04 02:27:56\",..: 7 7 7 7 7 7 7 7 7 7 ...\n",
      " $ Lat                : num  33.9 41.2 28 42.5 -11.2 ...\n",
      " $ Long_              : num  67.71 20.17 1.66 1.52 17.87 ...\n",
      " $ Confirmed          : int  117158 132514 139229 13900 38682 1263 4447701 224967 124 5826 ...\n",
      " $ Deaths             : int  4794 2456 3708 127 894 42 93668 4514 3 54 ...\n",
      " $ Recovered          : int  70016 130002 96815 13717 33079 1221 4062245 216718 121 0 ...\n",
      " $ Active             : int  42348 56 38706 56 4709 0 291788 3735 0 5772 ...\n",
      " $ Combined_Key       : Factor w/ 3987 levels \"Abbeville, South Carolina, US\",..: 26 41 55 93 98 105 126 131 166 2538 ...\n",
      " $ Incident_Rate      : num  301 4605 318 17990 118 ...\n",
      " $ Case_Fatality_Ratio: num  4.092 1.853 2.663 0.914 2.311 ...\n"
     ]
    },
    {
     "data": {
      "text/plain": [
       "      FIPS              Admin2      Province_State  Country_Region\n",
       " Min.   :   66             : 716   Texas   : 255   US      :3277  \n",
       " 1st Qu.:19050   Unassigned:  51           : 174   Russia  :  83  \n",
       " Median :30068   Washington:  30   Georgia : 161   Japan   :  49  \n",
       " Mean   :32401   Jefferson :  26   Virginia: 134   India   :  37  \n",
       " 3rd Qu.:47041   Franklin  :  25   Kentucky: 121   China   :  34  \n",
       " Max.   :99999   Jackson   :  24   Missouri: 117   Colombia:  34  \n",
       " NA's   :721     (Other)   :3115   (Other) :3025   (Other) : 473  \n",
       "              Last_Update        Lat             Long_        \n",
       " 2020-08-04 02:27:56:   2   Min.   :-52.37   Min.   :-178.12  \n",
       " 2020-08-07 22:34:20:   1   1st Qu.: 33.27   1st Qu.: -96.62  \n",
       " 2020-12-21 13:27:30:   5   Median : 37.94   Median : -86.85  \n",
       " 2021-01-24 23:22:19:   1   Mean   : 35.95   Mean   : -71.98  \n",
       " 2021-04-25 23:20:49:   1   3rd Qu.: 42.22   3rd Qu.: -77.49  \n",
       " 2021-06-29 23:21:50:   1   Max.   : 71.71   Max.   : 178.06  \n",
       " 2021-06-30 04:21:41:3976   NA's   :88       NA's   :88       \n",
       "   Confirmed           Deaths           Recovered           Active        \n",
       " Min.   :      0   Min.   :     0.0   Min.   :      0   Min.   :-1997381  \n",
       " 1st Qu.:   1164   1st Qu.:    20.0   1st Qu.:    736   1st Qu.:     200  \n",
       " Median :   3214   Median :    60.0   Median :  20254   Median :    1870  \n",
       " Mean   :  45601   Mean   :   987.7   Mean   : 168028   Mean   :   36051  \n",
       " 3rd Qu.:  13478   3rd Qu.:   212.0   3rd Qu.:  93067   3rd Qu.:   19144  \n",
       " Max.   :6051633   Max.   :126937.0   Max.   :5809548   Max.   : 5253768  \n",
       "                                      NA's   :3277      NA's   :3279      \n",
       "                        Combined_Key  Incident_Rate   Case_Fatality_Ratio\n",
       " Abbeville, South Carolina, US:   1   Min.   :    0   Min.   :   0.000   \n",
       " Abruzzo, Italy               :   1   1st Qu.: 7063   1st Qu.:   1.235   \n",
       " Acadia, Louisiana, US        :   1   Median : 9703   Median :   1.794   \n",
       " Accomack, Virginia, US       :   1   Mean   : 9075   Mean   :   3.302   \n",
       " Acre, Brazil                 :   1   3rd Qu.:11526   3rd Qu.:   2.514   \n",
       " Ada, Idaho, US               :   1   Max.   :41368   Max.   :4770.588   \n",
       " (Other)                      :3981   NA's   :89      NA's   :42         "
      ]
     },
     "metadata": {},
     "output_type": "display_data"
    },
    {
     "name": "stderr",
     "output_type": "stream",
     "text": [
      "Warning message:\n",
      "\"package 'ggstance' was built under R version 3.6.3\"\n",
      "Attaching package: 'ggstance'\n",
      "\n",
      "The following objects are masked from 'package:ggplot2':\n",
      "\n",
      "    geom_errorbarh, GeomErrorbarh\n",
      "\n",
      "Warning message:\n",
      "\"package 'ggcharts' was built under R version 3.6.3\""
     ]
    },
    {
     "data": {
      "image/png": "[encoded data removed]",
      "text/plain": [
       "plot without title"
      ]
     },
     "metadata": {},
     "output_type": "display_data"
    }
   ],
   "source": [
    "#Load Data\n",
    "url = \"https://raw.githubusercontent.com/CSSEGISandData/COVID-19/master/csse_covid_19_data/csse_covid_19_daily_reports/06-29-2021.csv\"\n",
    "df <- read.csv(url, header = TRUE)\n",
    "\n",
    "#Summarize\n",
    "str(df)\n",
    "summary(df)\n",
    "library(dplyr)\n",
    "library(ggplot2)\n",
    "library(\"ggstance\")\n",
    "library(ggcharts)\n",
    "#Nhom du lieu\n",
    "country <- df %>% group_by(Country_Region)\n",
    "country <- country %>% summarise(Deaths = sum(Deaths))\n",
    "#Sort\n",
    "country <- country[order(-country$Deaths),]\n",
    "#BarChart\n",
    "country %>%\n",
    "  bar_chart(x = Country_Region, y = Deaths, top_n = 20)"
   ]
  }
 ],
 "metadata": {
  "kernelspec": {
   "display_name": "R",
   "language": "R",
   "name": "ir"
  },
  "language_info": {
   "codemirror_mode": "r",
   "file_extension": ".r",
   "mimetype": "text/x-r-source",
   "name": "R",
   "pygments_lexer": "r",
   "version": "3.6.1"
  }
 },
 "nbformat": 4,
 "nbformat_minor": 4
}
