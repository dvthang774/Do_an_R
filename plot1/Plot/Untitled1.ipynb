{
 "cells": [
  {
   "cell_type": "code",
   "execution_count": 2,
   "metadata": {},
   "outputs": [
    {
     "name": "stderr",
     "output_type": "stream",
     "text": [
      "Warning message:\n",
      "\"package 'tidyverse' was built under R version 3.6.3\""
     ]
    },
    {
     "ename": "ERROR",
     "evalue": "Error: package or namespace load failed for 'tidyverse' in loadNamespace(j <- i[[1L]], c(lib.loc, .libPaths()), versionCheck = vI[[j]]):\n namespace 'jsonlite' 1.6 is already loaded, but >= 1.7.2 is required\n",
     "output_type": "error",
     "traceback": [
      "Error: package or namespace load failed for 'tidyverse' in loadNamespace(j <- i[[1L]], c(lib.loc, .libPaths()), versionCheck = vI[[j]]):\n namespace 'jsonlite' 1.6 is already loaded, but >= 1.7.2 is required\nTraceback:\n",
      "1. library(tidyverse)",
      "2. tryCatch({\n .     attr(package, \"LibPath\") <- which.lib.loc\n .     ns <- loadNamespace(package, lib.loc)\n .     env <- attachNamespace(ns, pos = pos, deps, exclude, include.only)\n . }, error = function(e) {\n .     P <- if (!is.null(cc <- conditionCall(e))) \n .         paste(\" in\", deparse(cc)[1L])\n .     else \"\"\n .     msg <- gettextf(\"package or namespace load failed for %s%s:\\n %s\", \n .         sQuote(package), P, conditionMessage(e))\n .     if (logical.return) \n .         message(paste(\"Error:\", msg), domain = NA)\n .     else stop(msg, call. = FALSE, domain = NA)\n . })",
      "3. tryCatchList(expr, classes, parentenv, handlers)",
      "4. tryCatchOne(expr, names, parentenv, handlers[[1L]])",
      "5. value[[3L]](cond)",
      "6. stop(msg, call. = FALSE, domain = NA)"
     ]
    }
   ],
   "source": [
    "library(tidyverse)\n",
    "library(lubridate)\n",
    "library(ggplot2)\n",
    "library(plotly)\n",
    "theme_set(theme_minimal())\n",
    "\n",
    "covid19_raw <- read_csv(\"https://github.com/CSSEGISandData/COVID-19/raw/master/csse_covid_19_data/csse_covid_19_time_series/time_series_covid19_confirmed_global.csv\")\n",
    "\n",
    "covid19 <- covid19_raw %>%\n",
    "  pivot_longer(-c(`Province/State`, `Country/Region`, Lat, Long),\n",
    "               names_to = \"date\",\n",
    "               values_to = \"confirmed_n\"\n",
    "  ) %>%\n",
    "  select(-c(Lat, Long)) %>%\n",
    "  rename(\n",
    "    province_state = `Province/State`,\n",
    "    country_region = `Country/Region`\n",
    "  ) %>%\n",
    "  mutate(date = mdy(date)) %>%\n",
    "  group_by(country_region, date) %>%\n",
    "  summarise(confirmed_n = sum(confirmed_n)) %>%\n",
    "  ungroup()\n",
    "\n",
    "covid19 <- covid19 %>%\n",
    "  arrange(date) %>%\n",
    "  group_by(country_region) %>%\n",
    "  mutate(new_cases_n = confirmed_n - lag(confirmed_n, default = 0)) %>%\n",
    "  ungroup()\n",
    "#US\n",
    "india <-covid19 %>% filter(country_region == \"India\")\n",
    "india <- india[c('date','new_cases_n')]\n",
    "india <-as.numeric(india$new_cases_n)\n",
    "df <- data.frame(india)\n",
    "\n",
    "p <- ggplot(df, aes(x=india)) +\n",
    "  geom_histogram(aes(y = ..density..), binwidth=density(df$india)$bw) +\n",
    "  geom_density(fill=\"red\", alpha = 0.5) + ggtitle(\"India newcases distribution\") +\n",
    "  xlab(\"\")\n",
    "\n",
    "fig <- ggplotly(p)\n",
    "\n",
    "fig\n"
   ]
  },
  {
   "cell_type": "code",
   "execution_count": null,
   "metadata": {},
   "outputs": [],
   "source": []
  }
 ],
 "metadata": {
  "kernelspec": {
   "display_name": "R",
   "language": "R",
   "name": "ir"
  },
  "language_info": {
   "codemirror_mode": "r",
   "file_extension": ".r",
   "mimetype": "text/x-r-source",
   "name": "R",
   "pygments_lexer": "r",
   "version": "3.6.1"
  }
 },
 "nbformat": 4,
 "nbformat_minor": 4
}
